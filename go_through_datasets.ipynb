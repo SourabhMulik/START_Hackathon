{
 "cells": [
  {
   "cell_type": "code",
   "execution_count": 1,
   "metadata": {},
   "outputs": [],
   "source": [
    "import geopandas as gpd"
   ]
  },
  {
   "cell_type": "code",
   "execution_count": null,
   "metadata": {},
   "outputs": [],
   "source": [
    "#C:\\Users\\HUAWEI\\Desktop\\hackthon\\START_Hackathon\\Datasets_Hackathon\\Admin_layers\\Assaba_Districts_layer.dbf"
   ]
  },
  {
   "cell_type": "code",
   "execution_count": 1,
   "metadata": {},
   "outputs": [],
   "source": [
    "from dbfread import DBF"
   ]
  },
  {
   "cell_type": "code",
   "execution_count": 7,
   "metadata": {},
   "outputs": [],
   "source": [
    "#table = DBF(r\"C:\\Users\\HUAWEI\\Desktop\\hackthon\\START_Hackathon\\Datasets_Hackathon\\Admin_layers\\Assaba_Districts_layer.dbf\", encoding=\"ISO-8859-1\")\n",
    "#for record in table:\n",
    " #   print(record)"
   ]
  },
  {
   "cell_type": "code",
   "execution_count": 6,
   "metadata": {},
   "outputs": [
    {
     "data": {
      "text/plain": [
       "(26, 17)"
      ]
     },
     "execution_count": 6,
     "metadata": {},
     "output_type": "execute_result"
    }
   ],
   "source": [
    "shapefile_path = r\"C:\\Users\\HUAWEI\\Desktop\\hackthon\\START_Hackathon\\Datasets_Hackathon\\Admin_layers\\Assaba_Districts_layer.shp\"\n",
    "districts_layer = gpd.read_file(shapefile_path)\n",
    "\n",
    "# Print the first few rows of the GeoDataFrame\n",
    "districts_layer.head()\n",
    "districts_layer.shape"
   ]
  },
  {
   "cell_type": "code",
   "execution_count": 3,
   "metadata": {},
   "outputs": [
    {
     "data": {
      "text/html": [
       "<div>\n",
       "<style scoped>\n",
       "    .dataframe tbody tr th:only-of-type {\n",
       "        vertical-align: middle;\n",
       "    }\n",
       "\n",
       "    .dataframe tbody tr th {\n",
       "        vertical-align: top;\n",
       "    }\n",
       "\n",
       "    .dataframe thead th {\n",
       "        text-align: right;\n",
       "    }\n",
       "</style>\n",
       "<table border=\"1\" class=\"dataframe\">\n",
       "  <thead>\n",
       "    <tr style=\"text-align: right;\">\n",
       "      <th></th>\n",
       "      <th>FID_1</th>\n",
       "      <th>ADM2_EN</th>\n",
       "      <th>ADM2_PCODE</th>\n",
       "      <th>ADM2_REF</th>\n",
       "      <th>ADM1_EN</th>\n",
       "      <th>ADM1_PCODE</th>\n",
       "      <th>ADM0_EN</th>\n",
       "      <th>ADM0_PCODE</th>\n",
       "      <th>date</th>\n",
       "      <th>validOn</th>\n",
       "      <th>validTo</th>\n",
       "      <th>Shape_Leng</th>\n",
       "      <th>Shape_Area</th>\n",
       "      <th>AREA_SQKM</th>\n",
       "      <th>geometry</th>\n",
       "    </tr>\n",
       "  </thead>\n",
       "  <tbody>\n",
       "    <tr>\n",
       "      <th>0</th>\n",
       "      <td>6</td>\n",
       "      <td>Boumdeid</td>\n",
       "      <td>MR032</td>\n",
       "      <td>None</td>\n",
       "      <td>Assaba</td>\n",
       "      <td>MR03</td>\n",
       "      <td>Mauritania</td>\n",
       "      <td>MR</td>\n",
       "      <td>2024-03-06</td>\n",
       "      <td>2024-03-27</td>\n",
       "      <td>0000/00/00</td>\n",
       "      <td>3.975597</td>\n",
       "      <td>0.368397</td>\n",
       "      <td>4323.851319</td>\n",
       "      <td>POLYGON ((-11.04988 17.46726, -11.1181 17.3996...</td>\n",
       "    </tr>\n",
       "    <tr>\n",
       "      <th>1</th>\n",
       "      <td>7</td>\n",
       "      <td>Kankoussa</td>\n",
       "      <td>MR034</td>\n",
       "      <td>None</td>\n",
       "      <td>Assaba</td>\n",
       "      <td>MR03</td>\n",
       "      <td>Mauritania</td>\n",
       "      <td>MR</td>\n",
       "      <td>2024-03-06</td>\n",
       "      <td>2024-03-27</td>\n",
       "      <td>0000/00/00</td>\n",
       "      <td>4.373495</td>\n",
       "      <td>0.874687</td>\n",
       "      <td>10369.305326</td>\n",
       "      <td>POLYGON ((-10.89745 15.10986, -10.89839 15.108...</td>\n",
       "    </tr>\n",
       "    <tr>\n",
       "      <th>2</th>\n",
       "      <td>8</td>\n",
       "      <td>Barkéol</td>\n",
       "      <td>MR031</td>\n",
       "      <td>Barkeol</td>\n",
       "      <td>Assaba</td>\n",
       "      <td>MR03</td>\n",
       "      <td>Mauritania</td>\n",
       "      <td>MR</td>\n",
       "      <td>2024-03-06</td>\n",
       "      <td>2024-03-27</td>\n",
       "      <td>0000/00/00</td>\n",
       "      <td>4.190714</td>\n",
       "      <td>0.546288</td>\n",
       "      <td>6448.722910</td>\n",
       "      <td>POLYGON ((-12.09018 16.73403, -12.08982 16.733...</td>\n",
       "    </tr>\n",
       "    <tr>\n",
       "      <th>3</th>\n",
       "      <td>4</td>\n",
       "      <td>Guerou</td>\n",
       "      <td>MR033</td>\n",
       "      <td>None</td>\n",
       "      <td>Assaba</td>\n",
       "      <td>MR03</td>\n",
       "      <td>Mauritania</td>\n",
       "      <td>MR</td>\n",
       "      <td>2024-03-06</td>\n",
       "      <td>2024-03-27</td>\n",
       "      <td>0000/00/00</td>\n",
       "      <td>2.499498</td>\n",
       "      <td>0.237509</td>\n",
       "      <td>2800.699987</td>\n",
       "      <td>POLYGON ((-11.95212 17.09488, -11.923 17.08261...</td>\n",
       "    </tr>\n",
       "    <tr>\n",
       "      <th>4</th>\n",
       "      <td>5</td>\n",
       "      <td>Kiffa</td>\n",
       "      <td>MR035</td>\n",
       "      <td>None</td>\n",
       "      <td>Assaba</td>\n",
       "      <td>MR03</td>\n",
       "      <td>Mauritania</td>\n",
       "      <td>MR</td>\n",
       "      <td>2024-03-06</td>\n",
       "      <td>2024-03-27</td>\n",
       "      <td>0000/00/00</td>\n",
       "      <td>6.705719</td>\n",
       "      <td>1.020179</td>\n",
       "      <td>12041.829921</td>\n",
       "      <td>POLYGON ((-10.83221 16.28856, -10.832 16.28824...</td>\n",
       "    </tr>\n",
       "  </tbody>\n",
       "</table>\n",
       "</div>"
      ],
      "text/plain": [
       "   FID_1    ADM2_EN ADM2_PCODE ADM2_REF ADM1_EN ADM1_PCODE     ADM0_EN  \\\n",
       "0      6   Boumdeid      MR032     None  Assaba       MR03  Mauritania   \n",
       "1      7  Kankoussa      MR034     None  Assaba       MR03  Mauritania   \n",
       "2      8    Barkéol      MR031  Barkeol  Assaba       MR03  Mauritania   \n",
       "3      4     Guerou      MR033     None  Assaba       MR03  Mauritania   \n",
       "4      5      Kiffa      MR035     None  Assaba       MR03  Mauritania   \n",
       "\n",
       "  ADM0_PCODE       date    validOn     validTo  Shape_Leng  Shape_Area  \\\n",
       "0         MR 2024-03-06 2024-03-27  0000/00/00    3.975597    0.368397   \n",
       "1         MR 2024-03-06 2024-03-27  0000/00/00    4.373495    0.874687   \n",
       "2         MR 2024-03-06 2024-03-27  0000/00/00    4.190714    0.546288   \n",
       "3         MR 2024-03-06 2024-03-27  0000/00/00    2.499498    0.237509   \n",
       "4         MR 2024-03-06 2024-03-27  0000/00/00    6.705719    1.020179   \n",
       "\n",
       "      AREA_SQKM                                           geometry  \n",
       "0   4323.851319  POLYGON ((-11.04988 17.46726, -11.1181 17.3996...  \n",
       "1  10369.305326  POLYGON ((-10.89745 15.10986, -10.89839 15.108...  \n",
       "2   6448.722910  POLYGON ((-12.09018 16.73403, -12.08982 16.733...  \n",
       "3   2800.699987  POLYGON ((-11.95212 17.09488, -11.923 17.08261...  \n",
       "4  12041.829921  POLYGON ((-10.83221 16.28856, -10.832 16.28824...  "
      ]
     },
     "execution_count": 3,
     "metadata": {},
     "output_type": "execute_result"
    }
   ],
   "source": [
    "region_layer=gpd.read_file(r\"C:\\Users\\HUAWEI\\Desktop\\hackthon\\START_Hackathon\\Datasets_Hackathon\\Admin_layers\\Assaba_Region_layer.shp\")\n",
    "region_layer.head()"
   ]
  },
  {
   "cell_type": "code",
   "execution_count": 5,
   "metadata": {},
   "outputs": [
    {
     "data": {
      "text/plain": [
       "(5, 15)"
      ]
     },
     "execution_count": 5,
     "metadata": {},
     "output_type": "execute_result"
    }
   ],
   "source": [
    "region_layer.shape"
   ]
  },
  {
   "cell_type": "markdown",
   "metadata": {},
   "source": [
    "2. climate precipitation"
   ]
  },
  {
   "cell_type": "code",
   "execution_count": null,
   "metadata": {},
   "outputs": [],
   "source": []
  }
 ],
 "metadata": {
  "kernelspec": {
   "display_name": "base",
   "language": "python",
   "name": "python3"
  },
  "language_info": {
   "codemirror_mode": {
    "name": "ipython",
    "version": 3
   },
   "file_extension": ".py",
   "mimetype": "text/x-python",
   "name": "python",
   "nbconvert_exporter": "python",
   "pygments_lexer": "ipython3",
   "version": "3.9.13"
  }
 },
 "nbformat": 4,
 "nbformat_minor": 2
}
