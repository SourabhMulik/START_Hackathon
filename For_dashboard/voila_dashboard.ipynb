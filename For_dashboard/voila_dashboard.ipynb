{
 "cells": [
  {
   "cell_type": "code",
   "execution_count": 9,
   "metadata": {},
   "outputs": [],
   "source": [
    "import pandas as pd\n",
    "import folium\n",
    "from ipywidgets import interact\n",
    "import ipywidgets as widgets"
   ]
  },
  {
   "cell_type": "code",
   "execution_count": null,
   "metadata": {},
   "outputs": [],
   "source": [
    "# # load dataset\n",
    "# df = pd.read_csv('clean_data.csv')\n",
    "\n",
    "# def create_map(year, land_type):\n",
    "\n",
    "#     filtered_df = df[(df['year'] == year) & (df['land_type'] == land_type)]\n",
    "    \n",
    "#     # 检查是否有匹配的数据\n",
    "#     if filtered_df.empty:\n",
    "#         print(\"No data for the selected filters.\")\n",
    "#         return\n",
    "    \n",
    "#     # create map\n",
    "#     assaba_center = [16.726, -11.033]  # Assaba区域的大致中心坐标\n",
    "#     zoom_level = 6  # 根据需要调整缩放级别，7级适合显示较大区域\n",
    "#     # 创建以Assaba为中心的地图\n",
    "#     m = folium.Map(location=assaba_center, zoom_start=zoom_level)\n",
    "    \n",
    "#     # mark on the map\n",
    "#     for i, row in filtered_df.iterrows():\n",
    "#         folium.CircleMarker(\n",
    "#             location=[row['actual_lat'], row['actual_lon']],\n",
    "#             radius=row['gpp'] / 50,\n",
    "#             popup=f\"GPP: {row['gpp']}\",\n",
    "#             color=\"blue\",\n",
    "#             fill=True,\n",
    "#             fill_color=\"blue\"\n",
    "#         ).add_to(m)\n",
    "    \n",
    "#     # save and display map\n",
    "#     return m\n",
    "\n",
    "# # crate year slider\n",
    "# year_slider = widgets.IntSlider(\n",
    "#     value=2020,\n",
    "#     min=df['year'].min(),\n",
    "#     max=df['year'].max(),\n",
    "#     step=1,\n",
    "#     description='Year:',\n",
    "#     continuous_update=False\n",
    "# )\n",
    "\n",
    "# # 创建地类类型下拉框\n",
    "# land_type_dropdown = widgets.Dropdown(\n",
    "#     options=df['land_type'].unique(),\n",
    "#     value=df['land_type'].unique()[0],\n",
    "#     description='Land Type:',\n",
    "#     disabled=False,\n",
    "# )\n",
    "\n",
    "# # create interactive dashboard\n",
    "# @interact(year=year_slider, land_type=land_type_dropdown)\n",
    "# def update_map(year, land_type):\n",
    "#     display(create_map(year, land_type))"
   ]
  },
  {
   "cell_type": "code",
   "execution_count": null,
   "metadata": {},
   "outputs": [],
   "source": []
  }
 ],
 "metadata": {
  "kernelspec": {
   "display_name": "base",
   "language": "python",
   "name": "python3"
  },
  "language_info": {
   "codemirror_mode": {
    "name": "ipython",
    "version": 3
   },
   "file_extension": ".py",
   "mimetype": "text/x-python",
   "name": "python",
   "nbconvert_exporter": "python",
   "pygments_lexer": "ipython3",
   "version": "3.9.12"
  }
 },
 "nbformat": 4,
 "nbformat_minor": 2
}
