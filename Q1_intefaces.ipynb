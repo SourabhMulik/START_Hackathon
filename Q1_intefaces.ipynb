{
 "cells": [
  {
   "cell_type": "code",
   "execution_count": 1,
   "metadata": {},
   "outputs": [
    {
     "name": "stdout",
     "output_type": "stream",
     "text": [
      "Collecting streamlit\n",
      "  Downloading streamlit-1.43.2-py2.py3-none-any.whl.metadata (8.9 kB)\n",
      "Requirement already satisfied: altair<6,>=4.0 in /Users/sishanyang/opt/anaconda3/lib/python3.9/site-packages (from streamlit) (5.3.0)\n",
      "Requirement already satisfied: blinker<2,>=1.0.0 in /Users/sishanyang/opt/anaconda3/lib/python3.9/site-packages (from streamlit) (1.4)\n",
      "Requirement already satisfied: cachetools<6,>=4.0 in /Users/sishanyang/opt/anaconda3/lib/python3.9/site-packages (from streamlit) (4.2.2)\n",
      "Requirement already satisfied: click<9,>=7.0 in /Users/sishanyang/opt/anaconda3/lib/python3.9/site-packages (from streamlit) (8.0.4)\n",
      "Requirement already satisfied: numpy<3,>=1.23 in /Users/sishanyang/opt/anaconda3/lib/python3.9/site-packages (from streamlit) (1.26.2)\n",
      "Requirement already satisfied: packaging<25,>=20 in /Users/sishanyang/opt/anaconda3/lib/python3.9/site-packages (from streamlit) (21.3)\n",
      "Requirement already satisfied: pandas<3,>=1.4.0 in /Users/sishanyang/opt/anaconda3/lib/python3.9/site-packages (from streamlit) (1.4.2)\n",
      "Requirement already satisfied: pillow<12,>=7.1.0 in /Users/sishanyang/opt/anaconda3/lib/python3.9/site-packages (from streamlit) (10.4.0)\n",
      "Requirement already satisfied: protobuf<6,>=3.20 in /Users/sishanyang/opt/anaconda3/lib/python3.9/site-packages (from streamlit) (4.25.0)\n",
      "Requirement already satisfied: pyarrow>=7.0 in /Users/sishanyang/opt/anaconda3/lib/python3.9/site-packages (from streamlit) (14.0.1)\n",
      "Requirement already satisfied: requests<3,>=2.27 in /Users/sishanyang/opt/anaconda3/lib/python3.9/site-packages (from streamlit) (2.31.0)\n",
      "Collecting tenacity<10,>=8.1.0 (from streamlit)\n",
      "  Downloading tenacity-9.0.0-py3-none-any.whl.metadata (1.2 kB)\n",
      "Requirement already satisfied: toml<2,>=0.10.1 in /Users/sishanyang/opt/anaconda3/lib/python3.9/site-packages (from streamlit) (0.10.2)\n",
      "Requirement already satisfied: typing-extensions<5,>=4.4.0 in /Users/sishanyang/opt/anaconda3/lib/python3.9/site-packages (from streamlit) (4.8.0)\n",
      "Requirement already satisfied: gitpython!=3.1.19,<4,>=3.0.7 in /Users/sishanyang/opt/anaconda3/lib/python3.9/site-packages (from streamlit) (3.1.40)\n",
      "Collecting pydeck<1,>=0.8.0b4 (from streamlit)\n",
      "  Downloading pydeck-0.9.1-py2.py3-none-any.whl.metadata (4.1 kB)\n",
      "Requirement already satisfied: tornado<7,>=6.0.3 in /Users/sishanyang/opt/anaconda3/lib/python3.9/site-packages (from streamlit) (6.1)\n",
      "Requirement already satisfied: jinja2 in /Users/sishanyang/opt/anaconda3/lib/python3.9/site-packages (from altair<6,>=4.0->streamlit) (2.11.3)\n",
      "Requirement already satisfied: jsonschema>=3.0 in /Users/sishanyang/opt/anaconda3/lib/python3.9/site-packages (from altair<6,>=4.0->streamlit) (4.4.0)\n",
      "Requirement already satisfied: toolz in /Users/sishanyang/opt/anaconda3/lib/python3.9/site-packages (from altair<6,>=4.0->streamlit) (0.11.2)\n",
      "Requirement already satisfied: gitdb<5,>=4.0.1 in /Users/sishanyang/opt/anaconda3/lib/python3.9/site-packages (from gitpython!=3.1.19,<4,>=3.0.7->streamlit) (4.0.11)\n",
      "Requirement already satisfied: pyparsing!=3.0.5,>=2.0.2 in /Users/sishanyang/opt/anaconda3/lib/python3.9/site-packages (from packaging<25,>=20->streamlit) (3.0.4)\n",
      "Requirement already satisfied: python-dateutil>=2.8.1 in /Users/sishanyang/opt/anaconda3/lib/python3.9/site-packages (from pandas<3,>=1.4.0->streamlit) (2.8.2)\n",
      "Requirement already satisfied: pytz>=2020.1 in /Users/sishanyang/opt/anaconda3/lib/python3.9/site-packages (from pandas<3,>=1.4.0->streamlit) (2021.3)\n",
      "Requirement already satisfied: charset-normalizer<4,>=2 in /Users/sishanyang/opt/anaconda3/lib/python3.9/site-packages (from requests<3,>=2.27->streamlit) (2.0.4)\n",
      "Requirement already satisfied: idna<4,>=2.5 in /Users/sishanyang/opt/anaconda3/lib/python3.9/site-packages (from requests<3,>=2.27->streamlit) (3.3)\n",
      "Requirement already satisfied: urllib3<3,>=1.21.1 in /Users/sishanyang/opt/anaconda3/lib/python3.9/site-packages (from requests<3,>=2.27->streamlit) (2.2.1)\n",
      "Requirement already satisfied: certifi>=2017.4.17 in /Users/sishanyang/opt/anaconda3/lib/python3.9/site-packages (from requests<3,>=2.27->streamlit) (2024.12.14)\n",
      "Requirement already satisfied: smmap<6,>=3.0.1 in /Users/sishanyang/opt/anaconda3/lib/python3.9/site-packages (from gitdb<5,>=4.0.1->gitpython!=3.1.19,<4,>=3.0.7->streamlit) (5.0.1)\n",
      "Requirement already satisfied: MarkupSafe>=0.23 in /Users/sishanyang/opt/anaconda3/lib/python3.9/site-packages (from jinja2->altair<6,>=4.0->streamlit) (2.0.1)\n",
      "Requirement already satisfied: attrs>=17.4.0 in /Users/sishanyang/opt/anaconda3/lib/python3.9/site-packages (from jsonschema>=3.0->altair<6,>=4.0->streamlit) (21.4.0)\n",
      "Requirement already satisfied: pyrsistent!=0.17.0,!=0.17.1,!=0.17.2,>=0.14.0 in /Users/sishanyang/opt/anaconda3/lib/python3.9/site-packages (from jsonschema>=3.0->altair<6,>=4.0->streamlit) (0.18.0)\n",
      "Requirement already satisfied: six>=1.5 in /Users/sishanyang/opt/anaconda3/lib/python3.9/site-packages (from python-dateutil>=2.8.1->pandas<3,>=1.4.0->streamlit) (1.16.0)\n",
      "Downloading streamlit-1.43.2-py2.py3-none-any.whl (9.7 MB)\n",
      "\u001b[2K   \u001b[90m━━━━━━━━━━━━━━━━━━━━━━━━━━━━━━━━━━━━━━━━\u001b[0m \u001b[32m9.7/9.7 MB\u001b[0m \u001b[31m7.7 MB/s\u001b[0m eta \u001b[36m0:00:00\u001b[0m00:01\u001b[0m00:01\u001b[0mm\n",
      "\u001b[?25hDownloading pydeck-0.9.1-py2.py3-none-any.whl (6.9 MB)\n",
      "\u001b[2K   \u001b[90m━━━━━━━━━━━━━━━━━━━━━━━━━━━━━━━━━━━━━━━━\u001b[0m \u001b[32m6.9/6.9 MB\u001b[0m \u001b[31m6.2 MB/s\u001b[0m eta \u001b[36m0:00:00\u001b[0m00:01\u001b[0m00:01\u001b[0mm\n",
      "\u001b[?25hDownloading tenacity-9.0.0-py3-none-any.whl (28 kB)\n",
      "Installing collected packages: tenacity, pydeck, streamlit\n",
      "  Attempting uninstall: tenacity\n",
      "    Found existing installation: tenacity 8.0.1\n",
      "    Uninstalling tenacity-8.0.1:\n",
      "      Successfully uninstalled tenacity-8.0.1\n",
      "Successfully installed pydeck-0.9.1 streamlit-1.43.2 tenacity-9.0.0\n",
      "\n",
      "\u001b[1m[\u001b[0m\u001b[34;49mnotice\u001b[0m\u001b[1;39;49m]\u001b[0m\u001b[39;49m A new release of pip is available: \u001b[0m\u001b[31;49m24.1\u001b[0m\u001b[39;49m -> \u001b[0m\u001b[32;49m25.0.1\u001b[0m\n",
      "\u001b[1m[\u001b[0m\u001b[34;49mnotice\u001b[0m\u001b[1;39;49m]\u001b[0m\u001b[39;49m To update, run: \u001b[0m\u001b[32;49mpip install --upgrade pip\u001b[0m\n",
      "Note: you may need to restart the kernel to use updated packages.\n"
     ]
    }
   ],
   "source": [
    "pip install streamlit"
   ]
  },
  {
   "cell_type": "code",
   "execution_count": 1,
   "metadata": {},
   "outputs": [],
   "source": [
    "import streamlit as st\n",
    "import pandas as pd\n",
    "import joblib"
   ]
  },
  {
   "cell_type": "code",
   "execution_count": null,
   "metadata": {},
   "outputs": [],
   "source": [
    "# Load the pre-trained model\n",
    "model = joblib.load('random_forest_model.pkl')\n",
    "\n",
    "# Define function to get user input\n",
    "def get_user_input():\n",
    "    # Define input fields for each feature (for example, assuming 3 features)\n",
    "    rainfall = st.number_input('Climate Precipitation', min_value=0.0, max_value=100.0)\n",
    "    productivity = st.number_input('Gross Primary Production', min_value=0.0, max_value=100.0)\n",
    "    streamwater = st.number_input('Stream Water', min_value=0.0, max_value=100.0)\n",
    "    \n",
    "    # Create a DataFrame from the input values\n",
    "    user_input = pd.DataFrame(\n",
    "        [[rainfall, productivity, streamwater]], \n",
    "        columns=['Climate Precipitation', 'Gross Primary Production', 'Stream Water'])\n",
    "    \n",
    "    return user_input\n",
    "\n",
    "# Create Streamlit interface\n",
    "st.title('Interactive Classification Prediction')\n",
    "\n",
    "# Get user input\n",
    "user_input = get_user_input()\n",
    "\n",
    "# When the button is clicked, predict the class\n",
    "if st.button('Predict'):\n",
    "    prediction = model.predict(user_input)\n",
    "    st.write(f'Predicted Class: {prediction[0]}')"
   ]
  }
 ],
 "metadata": {
  "kernelspec": {
   "display_name": "base",
   "language": "python",
   "name": "python3"
  },
  "language_info": {
   "codemirror_mode": {
    "name": "ipython",
    "version": 3
   },
   "file_extension": ".py",
   "mimetype": "text/x-python",
   "name": "python",
   "nbconvert_exporter": "python",
   "pygments_lexer": "ipython3",
   "version": "3.9.12"
  }
 },
 "nbformat": 4,
 "nbformat_minor": 2
}
